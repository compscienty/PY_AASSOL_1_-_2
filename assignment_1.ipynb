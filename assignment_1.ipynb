{
 "cells": [
  {
   "cell_type": "markdown",
   "metadata": {},
   "source": [
    "<h1>Session 1: Assignment 1</h1>\n",
    "</br>\n",
    "<h2>Task 1:</h2"
   ]
  },
  {
   "cell_type": "markdown",
   "metadata": {},
   "source": [
    "<div><font color=\"blue\">Problem Statement 1 :- </font>Install Jupyter notebook and run the first program and share the screenshot of the output.</div>"
   ]
  },
  {
   "cell_type": "markdown",
   "metadata": {},
   "source": [
    "<h1>#My first program after intalling Jupyter nootbook</h1></br>\n",
    "<div style=\"display: inline-block;\">Hello, I am a beginner and starting my new journey in Data Science!....</div><div style=\"display: inline-block;\"><img src=\"https://encrypted-tbn0.gstatic.com/images?q=tbn:ANd9GcQYhtyDhgDj1y7yXqbHss_CbPZ1S1EaD8yCl-J8N7JXe6Zia7xO\" alt=\"Smiley face\" width=\"30\" height=\"30\"></div></br>"
   ]
  },
  {
   "cell_type": "markdown",
   "metadata": {},
   "source": [
    "<div><font color=\"blue\">Problem Statement 2 :- </font>Write a program which will find all such numbers which are divisible by 7 but are not a multiple of 5, between 2000 and 3200 (both included). The numbers obtained should be printed in a comma-separated sequence on a single line.</div>"
   ]
  },
  {
   "cell_type": "code",
   "execution_count": 3,
   "metadata": {},
   "outputs": [
    {
     "name": "stdout",
     "output_type": "stream",
     "text": [
      "[2002, 2009, 2016, 2023, 2037, 2044, 2051, 2058, 2072, 2079, 2086, 2093, 2107, 2114, 2121, 2128, 2142, 2149, 2156, 2163, 2177, 2184, 2191, 2198, 2212, 2219, 2226, 2233, 2247, 2254, 2261, 2268, 2282, 2289, 2296, 2303, 2317, 2324, 2331, 2338, 2352, 2359, 2366, 2373, 2387, 2394, 2401, 2408, 2422, 2429, 2436, 2443, 2457, 2464, 2471, 2478, 2492, 2499, 2506, 2513, 2527, 2534, 2541, 2548, 2562, 2569, 2576, 2583, 2597, 2604, 2611, 2618, 2632, 2639, 2646, 2653, 2667, 2674, 2681, 2688, 2702, 2709, 2716, 2723, 2737, 2744, 2751, 2758, 2772, 2779, 2786, 2793, 2807, 2814, 2821, 2828, 2842, 2849, 2856, 2863, 2877, 2884, 2891, 2898, 2912, 2919, 2926, 2933, 2947, 2954, 2961, 2968, 2982, 2989, 2996, 3003, 3017, 3024, 3031, 3038, 3052, 3059, 3066, 3073, 3087, 3094, 3101, 3108, 3122, 3129, 3136, 3143, 3157, 3164, 3171, 3178, 3192, 3199]\n"
     ]
    }
   ],
   "source": [
    "#Using comprehensions\n",
    "opt = [num for num in range(2000, 3200) if num %7 == 0 and num % 5 != 0]\n",
    "#printing output here\n",
    "print(opt)"
   ]
  },
  {
   "cell_type": "markdown",
   "metadata": {},
   "source": [
    "<div><font color=\"blue\">Problem Statement 3 :- </font>Write a Python program to accept the user's first and last name and then getting them printed in the the reverse order with a space between first name and last name.</div>"
   ]
  },
  {
   "cell_type": "code",
   "execution_count": 10,
   "metadata": {},
   "outputs": [
    {
     "name": "stdout",
     "output_type": "stream",
     "text": [
      "Enter first name Rahul\n",
      "Enter last name Soni\n",
      "luhaR inoS\n"
     ]
    }
   ],
   "source": [
    "fname = input('Enter first name ')\n",
    "lname = input('Enter last name ')\n",
    "#printing output here\n",
    "print(fname[::-1] +' '+ lname [::-1])"
   ]
  },
  {
   "cell_type": "markdown",
   "metadata": {},
   "source": [
    "<div><font color=\"blue\">Problem Statement 4 :- </font>Write a Python program to find the volume of a sphere with diameter 12 cm.</div>"
   ]
  },
  {
   "cell_type": "code",
   "execution_count": 27,
   "metadata": {},
   "outputs": [
    {
     "name": "stdout",
     "output_type": "stream",
     "text": [
      "904.7779199999999\n"
     ]
    }
   ],
   "source": [
    "diameter = 12 #assignig diameter\n",
    "radius = diameter/2 #converting diameter into radius\n",
    "volume = 4/3*(3.14159)*(radius**3) #formula implementation\n",
    "#printing output here\n",
    "print(volume)"
   ]
  },
  {
   "cell_type": "markdown",
   "metadata": {},
   "source": [
    "<h2>Task 2:</h2"
   ]
  },
  {
   "cell_type": "markdown",
   "metadata": {},
   "source": [
    "<div><font color=\"blue\">Problem Statement 1 :- </font>Write a program which accepts a sequence of comma-separated numbers from console and\n",
    "generate a list.</div>"
   ]
  },
  {
   "cell_type": "code",
   "execution_count": 60,
   "metadata": {},
   "outputs": [
    {
     "name": "stdout",
     "output_type": "stream",
     "text": [
      "1,2,3,4,5\n",
      "['1', '2', '3', '4', '5']\n"
     ]
    }
   ],
   "source": [
    "import re #importing regex lib.\n",
    "num = input() # user input\n",
    "#printing output here\n",
    "print(list(re.sub(r\"[^a-zA-Z0-9]+\", '', num)))"
   ]
  },
  {
   "cell_type": "markdown",
   "metadata": {},
   "source": [
    "<div><font color=\"blue\">Problem Statement 2 :- </font>Create the below pattern using nested for loop in Python..</div>"
   ]
  },
  {
   "cell_type": "code",
   "execution_count": 4,
   "metadata": {},
   "outputs": [
    {
     "name": "stdout",
     "output_type": "stream",
     "text": [
      "\n",
      " *\n",
      " * *\n",
      " * * *\n",
      " * * * *\n",
      " * * * * *\n",
      " * * * *\n",
      " * * *\n",
      " * *\n",
      " *\n"
     ]
    }
   ],
   "source": [
    "tm = ' *'\n",
    "num = 0\n",
    "ptn = 5\n",
    "for ctn in range(5):\n",
    "    #printing output here\n",
    "    print(tm*num)\n",
    "    num = num+1\n",
    "for gtn in range(5):\n",
    "    if ptn > 0:\n",
    "        print(tm*ptn)\n",
    "    ptn = ptn-1"
   ]
  },
  {
   "cell_type": "markdown",
   "metadata": {},
   "source": [
    "<div><font color=\"blue\">Problem Statement 3 :- </font>Write a Python program to reverse a word after accepting the input from the user.</div>"
   ]
  },
  {
   "cell_type": "code",
   "execution_count": 5,
   "metadata": {},
   "outputs": [
    {
     "name": "stdout",
     "output_type": "stream",
     "text": [
      "Input word :- Acadgild\n",
      "dligdacA\n"
     ]
    }
   ],
   "source": [
    "inpt = input('Input word :- ')\n",
    "#printing output here\n",
    "print(inpt[::-1])"
   ]
  },
  {
   "cell_type": "markdown",
   "metadata": {},
   "source": [
    "<div><font color=\"blue\">Problem Statement 4 :- </font>Write a Python Program to print the given string in the format specified in the sample output.</div>"
   ]
  },
  {
   "cell_type": "code",
   "execution_count": 6,
   "metadata": {},
   "outputs": [
    {
     "name": "stdout",
     "output_type": "stream",
     "text": [
      "WE, THE PEOPLE OF INDIA,\n",
      "      having solemnly resolved to constitute India into a SOVEREIGN,\n",
      "             SOCIALIST, SECULAR, DEMOCRATIC REPUBLIC\n",
      "              and to secure to all its citizens\n"
     ]
    }
   ],
   "source": [
    "sttr = \"\"\"WE, THE PEOPLE OF INDIA,\\n@@@@@@having solemnly resolved to constitute India into a SOVEREIGN,\\n@@@@@@@@@@@@@SOCIALIST, SECULAR, DEMOCRATIC REPUBLIC\\n@@@@@@@@@@@@@@and to secure to all its citizens\"\"\"\n",
    "#printing output here\n",
    "print(sttr.replace('@',' '))"
   ]
  },
  {
   "cell_type": "code",
   "execution_count": null,
   "metadata": {},
   "outputs": [],
   "source": []
  }
 ],
 "metadata": {
  "kernelspec": {
   "display_name": "Python 3",
   "language": "python",
   "name": "python3"
  },
  "language_info": {
   "codemirror_mode": {
    "name": "ipython",
    "version": 3
   },
   "file_extension": ".py",
   "mimetype": "text/x-python",
   "name": "python",
   "nbconvert_exporter": "python",
   "pygments_lexer": "ipython3",
   "version": "3.7.0"
  }
 },
 "nbformat": 4,
 "nbformat_minor": 2
}
